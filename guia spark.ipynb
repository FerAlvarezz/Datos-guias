{
 "cells": [
  {
   "cell_type": "code",
   "execution_count": 1,
   "metadata": {},
   "outputs": [],
   "source": [
    "import random"
   ]
  },
  {
   "cell_type": "markdown",
   "metadata": {},
   "source": [
    "# Ejercicio N°1\n",
    "Se tiene un RDD con el registro de notas de los alumnos de la forma (padrón, materia, nota,\n",
    "fecha). Se pide resolver utilizando PySpark:\n",
    "\n",
    "- A. Cuántos alumnos aprobaron al menos 1 materia en los últimos 2 años.\n",
    "- B. Un RDD conteniendo el promedio de notas de cada alumno de la forma (padrón,\n",
    "promedio).\n",
    "- C. El nombre y apellido del alumno con mejor promedio. Para esto puede utilizarse un\n",
    "segundo RDD alumnos con registros (padron, nombre y apellido).\n"
   ]
  },
  {
   "cell_type": "code",
   "execution_count": 2,
   "metadata": {},
   "outputs": [],
   "source": [
    "notas = []\n",
    "padrones = []\n",
    "cant_alumnos = 50\n",
    "for i in range(cant_alumnos):\n",
    "    padron = random.randint(99900,100000)\n",
    "    while(padron in padrones): padron = random.randint(99900,100000)\n",
    "    padrones.append(padron)\n",
    "    materia = random.choice([\"AM3\",\"AM2\",\"TALLER\",\"LABORATORIO\",\"DATOS\"])\n",
    "    nota = random.randint(1,10)\n",
    "    fecha = \"{}-{}-{}\".format(random.choice(['2017','2018','2019']),\n",
    "                                        random.randint(1,12),\n",
    "                                        random.randint(1,28))\n",
    "    tupla = (padron,materia,nota,fecha)\n",
    "    notas.append(tupla)\n"
   ]
  },
  {
   "cell_type": "code",
   "execution_count": 3,
   "metadata": {},
   "outputs": [],
   "source": [
    "notasRDD = sc.parallelize(notas)"
   ]
  },
  {
   "cell_type": "code",
   "execution_count": 4,
   "metadata": {},
   "outputs": [
    {
     "data": {
      "text/plain": [
       "14"
      ]
     },
     "execution_count": 4,
     "metadata": {},
     "output_type": "execute_result"
    }
   ],
   "source": [
    "#A\n",
    "notasRDD.filter(lambda x: x[3] >= '2018-01-01' and x[3]<= '2019-12-31' and x[2]>=4)\\\n",
    "        .count()  "
   ]
  },
  {
   "cell_type": "code",
   "execution_count": 5,
   "metadata": {},
   "outputs": [],
   "source": [
    "#B\n",
    "promediosRDD = notasRDD.map(lambda x: (x[0], (x[2],1)))\\\n",
    "                       .reduceByKey(lambda x,y: (x[0]+y[0], x[1]+y[1]))\\\n",
    "                       .map(lambda x: (x[0], x[1][0]/x[1][1]))"
   ]
  },
  {
   "cell_type": "code",
   "execution_count": 6,
   "metadata": {},
   "outputs": [],
   "source": [
    "alumnos = []\n",
    "for i in range(cant_alumnos):\n",
    "    padron = padrones[i]\n",
    "    nombre = random.choice([\"Gustavo\",\"Nicolas\",\"Mariana\",\"Florencia\",\"Ayelen\",\"Pedro\",\"Gonzalo\"])\n",
    "    apellido = random.choice([\"Alvarez\",\"Fernandez\",\"Gonzalez\",\"Ramirez\",\"Rodriguez\"])\n",
    "    alumno = (padron, nombre, apellido)\n",
    "    alumnos.append(alumno)"
   ]
  },
  {
   "cell_type": "code",
   "execution_count": 7,
   "metadata": {},
   "outputs": [],
   "source": [
    "alumnosRDD = sc.parallelize(alumnos)"
   ]
  },
  {
   "cell_type": "code",
   "execution_count": 8,
   "metadata": {},
   "outputs": [
    {
     "data": {
      "text/plain": [
       "('Gonzalo Alvarez', 10.0)"
      ]
     },
     "execution_count": 8,
     "metadata": {},
     "output_type": "execute_result"
    }
   ],
   "source": [
    "#C\n",
    "alumnosRDD.map(lambda x: (x[0], (x[1] + ' ' + x[2])))\\\n",
    "          .join(promediosRDD)\\\n",
    "          .map(lambda x: (x[1][0], x[1][1]))\\\n",
    "          .reduce(lambda x,y: x if x[1]>=y[1] else y)"
   ]
  },
  {
   "cell_type": "markdown",
   "metadata": {},
   "source": [
    "# Ejercicio N°2\n",
    "Se tiene un RDD registros de ventas de producto con la forma (fecha de venta, código de\n",
    "producto, precio de venta) y en otro RDD detalle de los productos con (código de producto,\n",
    "descripción del producto, categoría). Se pide resolver utilizando PySpark:\n",
    "- A. Cuál es el producto más vendido.\n",
    "- B. Cuál es la categoría de productos más vendida.\n",
    "- C. Cuál es el top5 de productos más vendidos generando un RDD con (código de\n",
    "producto, descripción, cantidad de ventas)\n",
    "- D. Cuál es el producto que registró mayor aumento de precio en el último año, tomando\n",
    "para este análisis solo los productos que cuenten con al menos 50 ventas en el último\n",
    "año.\n",
    "- E. Idem anterior, pero calculando la categoría de productos que registró mayor variación\n",
    "de precios en el último año."
   ]
  },
  {
   "cell_type": "code",
   "execution_count": 101,
   "metadata": {},
   "outputs": [],
   "source": [
    "ventas = []\n",
    "productos = []\n",
    "\n",
    "for i in range(50):\n",
    "    fecha_de_venta = \"{}-{}-{}\".format(random.choice([\"2018\",\"2019\"])\n",
    "                                                     ,random.randint(1,12)\n",
    "                                                     ,random.randint(1,28))\n",
    "    codigo_de_producto = random.randint(1,10)\n",
    "    precio_de_venta = codigo_de_producto * 25.2\n",
    "    venta = (fecha_de_venta, codigo_de_producto, precio_de_venta)\n",
    "    ventas.append(venta)\n",
    "for i in range(1,10):\n",
    "    codigo_de_producto = i\n",
    "    descripcion = \"descripcion\" + ' ' + str(i)\n",
    "    categoria = random.choice([\"Limpieza\",\"Producto de cocina\", \"Vestimenta\", \"Juguete\"])\n",
    "    producto = (codigo_de_producto, descripcion, categoria)\n",
    "    productos.append(producto)"
   ]
  },
  {
   "cell_type": "code",
   "execution_count": 102,
   "metadata": {},
   "outputs": [],
   "source": [
    "ventasRDD = sc.parallelize(ventas)\n",
    "productosRDD = sc.parallelize(productos)"
   ]
  },
  {
   "cell_type": "code",
   "execution_count": 103,
   "metadata": {},
   "outputs": [
    {
     "data": {
      "text/plain": [
       "(9, 9)"
      ]
     },
     "execution_count": 103,
     "metadata": {},
     "output_type": "execute_result"
    }
   ],
   "source": [
    "#A - (Codigo_producto, cantidad_vendida)\n",
    "ventasRDD.map(lambda x: (x[1],1))\\\n",
    "         .reduceByKey(lambda x,y: x+y)\\\n",
    "         .reduce(lambda x,y: x if x[1]>y[1] else y)"
   ]
  },
  {
   "cell_type": "code",
   "execution_count": 104,
   "metadata": {},
   "outputs": [
    {
     "data": {
      "text/plain": [
       "('Juguete', 9)"
      ]
     },
     "execution_count": 104,
     "metadata": {},
     "output_type": "execute_result"
    }
   ],
   "source": [
    "#B\n",
    "cant = ventasRDD.map(lambda x: (x[1],1))\\\n",
    "                .reduceByKey(lambda x,y: x+y)\n",
    "#cant es un RDD con las cantidades de venta de cada prod [(id_producto, cant)]\n",
    "productosRDD.map(lambda x: (x[0], x[2]))\\\n",
    "            .join(cant)\\\n",
    "            .map(lambda x: (x[1][0], x[1][1]))\\\n",
    "            .reduce(lambda x,y: x if x[1] >= y[1] else y ) \n",
    "#Me devuelve la tupla (categoria,cant), puedo hacer [0] y obtener la categoria"
   ]
  },
  {
   "cell_type": "code",
   "execution_count": 105,
   "metadata": {},
   "outputs": [
    {
     "data": {
      "text/plain": [
       "5"
      ]
     },
     "execution_count": 105,
     "metadata": {},
     "output_type": "execute_result"
    }
   ],
   "source": [
    "#C\n",
    "productosRDD_map = productosRDD.map(lambda x: (x[0], x[1]))\n",
    "top5RDD = sc.parallelize(cant.top(5,key = lambda x: x[1]))\\\n",
    "            .join(productosRDD_map)\\\n",
    "            .map(lambda x: (x[0],x[1][1],x[1][0]))\n",
    "top5RDD.count()"
   ]
  },
  {
   "cell_type": "code",
   "execution_count": 108,
   "metadata": {},
   "outputs": [
    {
     "data": {
      "text/plain": [
       "[(9, 'descripcion 9', 9),\n",
       " (3, 'descripcion 3', 6),\n",
       " (7, 'descripcion 7', 6),\n",
       " (8, 'descripcion 8', 5),\n",
       " (6, 'descripcion 6', 5)]"
      ]
     },
     "execution_count": 108,
     "metadata": {},
     "output_type": "execute_result"
    }
   ],
   "source": [
    "top5RDD.takeOrdered(5,key = lambda x: -x[2])"
   ]
  },
  {
   "cell_type": "code",
   "execution_count": null,
   "metadata": {},
   "outputs": [],
   "source": []
  },
  {
   "cell_type": "code",
   "execution_count": null,
   "metadata": {},
   "outputs": [],
   "source": []
  }
 ],
 "metadata": {
  "kernelspec": {
   "display_name": "Python 3",
   "language": "python",
   "name": "python3"
  },
  "language_info": {
   "codemirror_mode": {
    "name": "ipython",
    "version": 3
   },
   "file_extension": ".py",
   "mimetype": "text/x-python",
   "name": "python",
   "nbconvert_exporter": "python",
   "pygments_lexer": "ipython3",
   "version": "3.6.8"
  }
 },
 "nbformat": 4,
 "nbformat_minor": 4
}
